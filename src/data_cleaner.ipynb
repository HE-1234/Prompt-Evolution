{
 "cells": [
  {
   "cell_type": "code",
   "execution_count": 1,
   "metadata": {},
   "outputs": [
    {
     "name": "stderr",
     "output_type": "stream",
     "text": [
      "/home/mtafresh/.local/lib/python3.10/site-packages/sentence_transformers/cross_encoder/CrossEncoder.py:11: TqdmWarning: IProgress not found. Please update jupyter and ipywidgets. See https://ipywidgets.readthedocs.io/en/stable/user_install.html\n",
      "  from tqdm.autonotebook import tqdm, trange\n"
     ]
    }
   ],
   "source": [
    "import numpy as np\n",
    "import pandas as pd\n",
    "from sentence_transformers import SentenceTransformer\n",
    "from sklearn.metrics.pairwise import cosine_similarity\n",
    "import ast\n",
    "import Levenshtein\n",
    "from datasets import load_metric\n",
    "from rouge_score import rouge_scorer\n",
    "import matplotlib.pyplot as plt\n",
    "from sklearn.model_selection import train_test_split\n"
   ]
  },
  {
   "cell_type": "code",
   "execution_count": 2,
   "metadata": {},
   "outputs": [],
   "source": [
    "model = SentenceTransformer('sentence-transformers/all-mpnet-base-v2', device='cpu')"
   ]
  },
  {
   "cell_type": "code",
   "execution_count": 8,
   "metadata": {},
   "outputs": [],
   "source": [
    "df = pd.read_csv(\"filtered_data/changes_new.csv\")"
   ]
  },
  {
   "cell_type": "code",
   "execution_count": 10,
   "metadata": {},
   "outputs": [
    {
     "data": {
      "text/html": [
       "<div>\n",
       "<style scoped>\n",
       "    .dataframe tbody tr th:only-of-type {\n",
       "        vertical-align: middle;\n",
       "    }\n",
       "\n",
       "    .dataframe tbody tr th {\n",
       "        vertical-align: top;\n",
       "    }\n",
       "\n",
       "    .dataframe thead th {\n",
       "        text-align: right;\n",
       "    }\n",
       "</style>\n",
       "<table border=\"1\" class=\"dataframe\">\n",
       "  <thead>\n",
       "    <tr style=\"text-align: right;\">\n",
       "      <th></th>\n",
       "      <th>Unnamed: 0</th>\n",
       "      <th>project_file</th>\n",
       "      <th>commit</th>\n",
       "      <th>commit_message</th>\n",
       "      <th>date</th>\n",
       "      <th>old</th>\n",
       "      <th>new</th>\n",
       "    </tr>\n",
       "  </thead>\n",
       "  <tbody>\n",
       "    <tr>\n",
       "      <th>0</th>\n",
       "      <td>0</td>\n",
       "      <td>BradyFU/Woodpecker_models/entity_extractor.py</td>\n",
       "      <td>8eef8561a06b056525ad4dc4e7dd1bed3e14436a</td>\n",
       "      <td>update code</td>\n",
       "      <td>2023-10-24</td>\n",
       "      <td>['You are a language assistant that helps to e...</td>\n",
       "      <td>['You are a language assistant that helps to e...</td>\n",
       "    </tr>\n",
       "    <tr>\n",
       "      <th>1</th>\n",
       "      <td>1</td>\n",
       "      <td>AmineDiro/cria_python/langchain_openai.py</td>\n",
       "      <td>e98ec6e3f907c84ea64ca79f2778b5f36ccb1da6</td>\n",
       "      <td>small fix langchain</td>\n",
       "      <td>2023-08-08</td>\n",
       "      <td>[\"\\nUSER: You are a helpful, medical specialis...</td>\n",
       "      <td>[\"\\nUSER: You are a helpful, medical specialis...</td>\n",
       "    </tr>\n",
       "    <tr>\n",
       "      <th>2</th>\n",
       "      <td>2</td>\n",
       "      <td>UranusSeven/llama_generative_agent_generative_...</td>\n",
       "      <td>fb169f71f0851167e24186131d9eb368d9268c3e</td>\n",
       "      <td>ENH: better prompts</td>\n",
       "      <td>2023-05-05</td>\n",
       "      <td>['\\n{q1}?\\nContext from memory:\\n{relevant_mem...</td>\n",
       "      <td>['{q1}?\\nContext from memory:\\n{relevant_memor...</td>\n",
       "    </tr>\n",
       "    <tr>\n",
       "      <th>3</th>\n",
       "      <td>3</td>\n",
       "      <td>yoheinakajima/babyagi_babycoder/babycoder.py</td>\n",
       "      <td>4d5002262e36a361ef9c4d057989ece22f1ce304</td>\n",
       "      <td>get os name</td>\n",
       "      <td>2023-05-02</td>\n",
       "      <td>['You are an AGI agent responsible for creatin...</td>\n",
       "      <td>['You are an AGI agent responsible for creatin...</td>\n",
       "    </tr>\n",
       "    <tr>\n",
       "      <th>4</th>\n",
       "      <td>4</td>\n",
       "      <td>juntoku9/edupal_firebase_functions/functions/s...</td>\n",
       "      <td>cc91125ab816f695eb335beb8da9846430cde3c3</td>\n",
       "      <td>some clean up and bug fixes</td>\n",
       "      <td>2023-10-25</td>\n",
       "      <td>[' you are a happy dog chatting with children,...</td>\n",
       "      <td>[' you are a happy dog chatting with children,...</td>\n",
       "    </tr>\n",
       "    <tr>\n",
       "      <th>...</th>\n",
       "      <td>...</td>\n",
       "      <td>...</td>\n",
       "      <td>...</td>\n",
       "      <td>...</td>\n",
       "      <td>...</td>\n",
       "      <td>...</td>\n",
       "      <td>...</td>\n",
       "    </tr>\n",
       "    <tr>\n",
       "      <th>1791</th>\n",
       "      <td>1791</td>\n",
       "      <td>sweepai/sweep_sweepai/core/context_pruning.py</td>\n",
       "      <td>bc9bfc0351261b66d9bdcb8b08b27df75f24d712</td>\n",
       "      <td>Feat/fast and better context (#3532)</td>\n",
       "      <td>2024-04-11</td>\n",
       "      <td>['PLACEHOLDERPLACEHOLDER', 'You are a brillian...</td>\n",
       "      <td>['PLACEHOLDERPLACEHOLDER', \"You are a brillian...</td>\n",
       "    </tr>\n",
       "    <tr>\n",
       "      <th>1792</th>\n",
       "      <td>1792</td>\n",
       "      <td>thiswillbeyourgithub/DocToolsLLM_DocToolsLLM.py</td>\n",
       "      <td>fb876ba5fae3e4eff683739f38919c40794eed54</td>\n",
       "      <td>feat: added task==search</td>\n",
       "      <td>2023-12-01</td>\n",
       "      <td>['Given the following conversation and a follo...</td>\n",
       "      <td>['Given the following conversation and a follo...</td>\n",
       "    </tr>\n",
       "    <tr>\n",
       "      <th>1793</th>\n",
       "      <td>1793</td>\n",
       "      <td>thiswillbeyourgithub/DocToolsLLM_DocToolsLLM.py</td>\n",
       "      <td>0802de797b7946e54e55db61f8d40065c00afbc6</td>\n",
       "      <td>fix dedent</td>\n",
       "      <td>2023-12-10</td>\n",
       "      <td>['Given the following conversation and a follo...</td>\n",
       "      <td>['\\n                        Given the followin...</td>\n",
       "    </tr>\n",
       "    <tr>\n",
       "      <th>1794</th>\n",
       "      <td>1794</td>\n",
       "      <td>thiswillbeyourgithub/DocToolsLLM_DocToolsLLM.py</td>\n",
       "      <td>7e22a317e07323fe4c34e0beeecade79576d7a99</td>\n",
       "      <td>feat: allow the llm to give its opinion if the...</td>\n",
       "      <td>2024-05-01</td>\n",
       "      <td>[\"Given the following question and document te...</td>\n",
       "      <td>[\"Given the following question and document te...</td>\n",
       "    </tr>\n",
       "    <tr>\n",
       "      <th>1795</th>\n",
       "      <td>1795</td>\n",
       "      <td>thiswillbeyourgithub/DocToolsLLM_DocToolsLLM.py</td>\n",
       "      <td>af87e516db34b996c6daead53b12f38d0ac1beca</td>\n",
       "      <td>remove irrelevant context when combining answers</td>\n",
       "      <td>2024-05-01</td>\n",
       "      <td>[\"Given the following question and document te...</td>\n",
       "      <td>[\"Given the following question and document te...</td>\n",
       "    </tr>\n",
       "  </tbody>\n",
       "</table>\n",
       "<p>1796 rows × 7 columns</p>\n",
       "</div>"
      ],
      "text/plain": [
       "      Unnamed: 0                                       project_file  \\\n",
       "0              0      BradyFU/Woodpecker_models/entity_extractor.py   \n",
       "1              1          AmineDiro/cria_python/langchain_openai.py   \n",
       "2              2  UranusSeven/llama_generative_agent_generative_...   \n",
       "3              3       yoheinakajima/babyagi_babycoder/babycoder.py   \n",
       "4              4  juntoku9/edupal_firebase_functions/functions/s...   \n",
       "...          ...                                                ...   \n",
       "1791        1791      sweepai/sweep_sweepai/core/context_pruning.py   \n",
       "1792        1792    thiswillbeyourgithub/DocToolsLLM_DocToolsLLM.py   \n",
       "1793        1793    thiswillbeyourgithub/DocToolsLLM_DocToolsLLM.py   \n",
       "1794        1794    thiswillbeyourgithub/DocToolsLLM_DocToolsLLM.py   \n",
       "1795        1795    thiswillbeyourgithub/DocToolsLLM_DocToolsLLM.py   \n",
       "\n",
       "                                        commit  \\\n",
       "0     8eef8561a06b056525ad4dc4e7dd1bed3e14436a   \n",
       "1     e98ec6e3f907c84ea64ca79f2778b5f36ccb1da6   \n",
       "2     fb169f71f0851167e24186131d9eb368d9268c3e   \n",
       "3     4d5002262e36a361ef9c4d057989ece22f1ce304   \n",
       "4     cc91125ab816f695eb335beb8da9846430cde3c3   \n",
       "...                                        ...   \n",
       "1791  bc9bfc0351261b66d9bdcb8b08b27df75f24d712   \n",
       "1792  fb876ba5fae3e4eff683739f38919c40794eed54   \n",
       "1793  0802de797b7946e54e55db61f8d40065c00afbc6   \n",
       "1794  7e22a317e07323fe4c34e0beeecade79576d7a99   \n",
       "1795  af87e516db34b996c6daead53b12f38d0ac1beca   \n",
       "\n",
       "                                         commit_message        date  \\\n",
       "0                                           update code  2023-10-24   \n",
       "1                                   small fix langchain  2023-08-08   \n",
       "2                                   ENH: better prompts  2023-05-05   \n",
       "3                                           get os name  2023-05-02   \n",
       "4                           some clean up and bug fixes  2023-10-25   \n",
       "...                                                 ...         ...   \n",
       "1791               Feat/fast and better context (#3532)  2024-04-11   \n",
       "1792                           feat: added task==search  2023-12-01   \n",
       "1793                                         fix dedent  2023-12-10   \n",
       "1794  feat: allow the llm to give its opinion if the...  2024-05-01   \n",
       "1795   remove irrelevant context when combining answers  2024-05-01   \n",
       "\n",
       "                                                    old  \\\n",
       "0     ['You are a language assistant that helps to e...   \n",
       "1     [\"\\nUSER: You are a helpful, medical specialis...   \n",
       "2     ['\\n{q1}?\\nContext from memory:\\n{relevant_mem...   \n",
       "3     ['You are an AGI agent responsible for creatin...   \n",
       "4     [' you are a happy dog chatting with children,...   \n",
       "...                                                 ...   \n",
       "1791  ['PLACEHOLDERPLACEHOLDER', 'You are a brillian...   \n",
       "1792  ['Given the following conversation and a follo...   \n",
       "1793  ['Given the following conversation and a follo...   \n",
       "1794  [\"Given the following question and document te...   \n",
       "1795  [\"Given the following question and document te...   \n",
       "\n",
       "                                                    new  \n",
       "0     ['You are a language assistant that helps to e...  \n",
       "1     [\"\\nUSER: You are a helpful, medical specialis...  \n",
       "2     ['{q1}?\\nContext from memory:\\n{relevant_memor...  \n",
       "3     ['You are an AGI agent responsible for creatin...  \n",
       "4     [' you are a happy dog chatting with children,...  \n",
       "...                                                 ...  \n",
       "1791  ['PLACEHOLDERPLACEHOLDER', \"You are a brillian...  \n",
       "1792  ['Given the following conversation and a follo...  \n",
       "1793  ['\\n                        Given the followin...  \n",
       "1794  [\"Given the following question and document te...  \n",
       "1795  [\"Given the following question and document te...  \n",
       "\n",
       "[1796 rows x 7 columns]"
      ]
     },
     "execution_count": 10,
     "metadata": {},
     "output_type": "execute_result"
    }
   ],
   "source": [
    "df"
   ]
  },
  {
   "cell_type": "code",
   "execution_count": 20,
   "metadata": {},
   "outputs": [],
   "source": [
    "def parse_to_list(string_set):\n",
    "    return list(ast.literal_eval(string_set))\n",
    "\n",
    "def compute_rouge_l_similarity(s1, s2):\n",
    "    scorer = rouge_scorer.RougeScorer(['rougeL'], use_stemmer=True)\n",
    "    score = scorer.score(s1, s2)\n",
    "    return score['rougeL'].fmeasure  # f-measure is a harmonic mean of precision and recall\n",
    "\n",
    "def compute_rouge_l_similarity_matrix(array1, array2):\n",
    "    matrix = np.zeros((len(array1), len(array2)))\n",
    "    for i, s1 in enumerate(array1):\n",
    "        for j, s2 in enumerate(array2):\n",
    "            matrix[i, j] = compute_rouge_l_similarity(s1, s2)\n",
    "    return matrix\n",
    "\n",
    "def levenshtein_similarity(s1, s2):\n",
    "    return 1 - (Levenshtein.distance(s1, s2) / max(len(s1), len(s2)))\n",
    "\n",
    "def compute_levenshtein_similarity_matrix(array1, array2):\n",
    "    matrix = np.zeros((len(array1), len(array2)))\n",
    "    for i, s1 in enumerate(array1):\n",
    "        for j, s2 in enumerate(array2):\n",
    "            matrix[i, j] = levenshtein_similarity(s1, s2)\n",
    "    return matrix\n",
    "\n",
    "def match_strings(array1, array2, similarity_matrix, threshold=0.2):\n",
    "    matches = []\n",
    "    sim_matrix = similarity_matrix.copy()\n",
    "    \n",
    "    while True:\n",
    "        max_index = np.unravel_index(np.argmax(sim_matrix, axis=None), sim_matrix.shape)\n",
    "        max_similarity = sim_matrix[max_index]\n",
    "        \n",
    "        # For ROGUE-L\n",
    "        if max_similarity >= 1:\n",
    "            sim_matrix[max_index[0], :] = -1\n",
    "            sim_matrix[:, max_index[1]] = -1\n",
    "\n",
    "            array1[max_index[0]] = None\n",
    "            array2[max_index[1]] = None\n",
    "\n",
    "        if max_similarity < threshold:\n",
    "            break\n",
    "        \n",
    "        match = {\n",
    "            \"from_array1\": array1[max_index[0]],\n",
    "            \"from_array2\": array2[max_index[1]],\n",
    "            \"similarity\": max_similarity\n",
    "        }\n",
    "        matches.append(match)\n",
    "        \n",
    "        sim_matrix[max_index[0], :] = -1\n",
    "        sim_matrix[:, max_index[1]] = -1\n",
    "        \n",
    "        array1[max_index[0]] = None\n",
    "        array2[max_index[1]] = None\n",
    "        \n",
    "        if all(el is None for el in array1):\n",
    "            break\n",
    "    \n",
    "    return matches"
   ]
  },
  {
   "cell_type": "code",
   "execution_count": 21,
   "metadata": {},
   "outputs": [
    {
     "name": "stdout",
     "output_type": "stream",
     "text": [
      "0\n",
      "100\n",
      "200\n",
      "300\n",
      "400\n",
      "500\n",
      "600\n",
      "700\n",
      "800\n",
      "900\n",
      "1000\n",
      "1100\n",
      "1200\n",
      "1300\n",
      "1400\n",
      "1500\n",
      "1600\n",
      "1700\n"
     ]
    }
   ],
   "source": [
    "ms = []\n",
    "\n",
    "for index, row in df.iterrows():\n",
    "    if index % 100 == 0:\n",
    "        print(index)\n",
    "    old_prompts = parse_to_list(row['old'])\n",
    "    new_prompts = parse_to_list(row['new'])\n",
    "\n",
    "    # old_embeddings = model.encode(old_prompts)\n",
    "    # new_embeddings = model.encode(new_prompts)\n",
    "\n",
    "    # similarity_matrix = cosine_similarity(old_embeddings, new_embeddings)\n",
    "    # similarity_matrix = compute_levenshtein_similarity_matrix(old_prompts, new_prompts)\n",
    "    similarity_matrix = compute_rouge_l_similarity_matrix(old_prompts, new_prompts)\n",
    "\n",
    "\n",
    "    matches = match_strings(old_prompts, new_prompts, similarity_matrix)\n",
    "\n",
    "    for match in matches:\n",
    "        ms.append({\n",
    "            \"project_file\": row['project_file'],\n",
    "            \"commit\": row['commit'],\n",
    "            \"commit_message\": row[\"commit_message\"],\n",
    "            \"date\": row[\"date\"],\n",
    "            \"old\": match[\"from_array1\"],\n",
    "            \"new\": match[\"from_array2\"],\n",
    "            \"similarity\": match[\"similarity\"]\n",
    "        })\n",
    "\n",
    "\n",
    "    # for i in range(len(old_prompts)):\n",
    "    #     similarity_scores = similarity_matrix[i]\n",
    "    #     most_similar_index = np.argmax(similarity_scores)\n",
    "\n",
    "    #         # print(\"OLD:\")\n",
    "    #         # print(old_prompts[i])\n",
    "    #         # print(\"NEW:\")\n",
    "    #         # print(new_prompts[most_similar_index])\n",
    "    #         # print(\"=========================================\")\n",
    "    #     if similarity_scores[most_similar_index] > 0.2:\n",
    "    #         new_row = {\n",
    "    #             \"project_file\": row['project_file'], \n",
    "    #             \"commit\": row['commit'], \n",
    "    #             \"old\": old_prompts[i], \n",
    "    #             \"new\": new_prompts[most_similar_index],\n",
    "    #             \"similarity\": similarity_scores[most_similar_index]\n",
    "    #         }\n",
    "                \n",
    "    #         new_df = new_df.append(new_row, ignore_index=True)\n",
    "new_df = pd.DataFrame(ms)"
   ]
  },
  {
   "cell_type": "code",
   "execution_count": 22,
   "metadata": {},
   "outputs": [
    {
     "name": "stderr",
     "output_type": "stream",
     "text": [
      "/tmp/ipykernel_3029380/884060710.py:2: FutureWarning: the 'line_terminator'' keyword is deprecated, use 'lineterminator' instead.\n",
      "  new_df.to_csv('output_7.csv', index=False, line_terminator='\\n')\n"
     ]
    }
   ],
   "source": [
    "new_df.head()\n",
    "new_df.to_csv('output_7.csv', index=False, line_terminator='\\n')"
   ]
  },
  {
   "cell_type": "code",
   "execution_count": 23,
   "metadata": {},
   "outputs": [
    {
     "data": {
      "text/plain": [
       "14063"
      ]
     },
     "execution_count": 23,
     "metadata": {},
     "output_type": "execute_result"
    }
   ],
   "source": [
    "len(new_df)"
   ]
  },
  {
   "cell_type": "code",
   "execution_count": 59,
   "metadata": {},
   "outputs": [],
   "source": [
    "df_no_duplicates = new_df.drop_duplicates()"
   ]
  },
  {
   "cell_type": "code",
   "execution_count": 25,
   "metadata": {},
   "outputs": [
    {
     "data": {
      "text/plain": [
       "3230"
      ]
     },
     "execution_count": 25,
     "metadata": {},
     "output_type": "execute_result"
    }
   ],
   "source": [
    "len(df_no_duplicates)"
   ]
  },
  {
   "cell_type": "code",
   "execution_count": 27,
   "metadata": {},
   "outputs": [],
   "source": [
    "df_no_duplicates.to_csv('output_7.csv', index=False, lineterminator='\\n')"
   ]
  },
  {
   "cell_type": "code",
   "execution_count": 60,
   "metadata": {},
   "outputs": [
    {
     "name": "stderr",
     "output_type": "stream",
     "text": [
      "/tmp/ipykernel_3029380/1172792937.py:1: SettingWithCopyWarning: \n",
      "A value is trying to be set on a copy of a slice from a DataFrame\n",
      "\n",
      "See the caveats in the documentation: https://pandas.pydata.org/pandas-docs/stable/user_guide/indexing.html#returning-a-view-versus-a-copy\n",
      "  df_no_duplicates.dropna(subset=['old', 'new'], inplace=True)\n",
      "/tmp/ipykernel_3029380/1172792937.py:4: SettingWithCopyWarning: \n",
      "A value is trying to be set on a copy of a slice from a DataFrame.\n",
      "Try using .loc[row_indexer,col_indexer] = value instead\n",
      "\n",
      "See the caveats in the documentation: https://pandas.pydata.org/pandas-docs/stable/user_guide/indexing.html#returning-a-view-versus-a-copy\n",
      "  df_no_duplicates.at[index, 'prompt_length_old'] = len(row['old'].split())\n",
      "/tmp/ipykernel_3029380/1172792937.py:5: SettingWithCopyWarning: \n",
      "A value is trying to be set on a copy of a slice from a DataFrame.\n",
      "Try using .loc[row_indexer,col_indexer] = value instead\n",
      "\n",
      "See the caveats in the documentation: https://pandas.pydata.org/pandas-docs/stable/user_guide/indexing.html#returning-a-view-versus-a-copy\n",
      "  df_no_duplicates.at[index, 'prompt_length_new'] = len(row['new'].split())\n"
     ]
    },
    {
     "data": {
      "text/html": [
       "<div>\n",
       "<style scoped>\n",
       "    .dataframe tbody tr th:only-of-type {\n",
       "        vertical-align: middle;\n",
       "    }\n",
       "\n",
       "    .dataframe tbody tr th {\n",
       "        vertical-align: top;\n",
       "    }\n",
       "\n",
       "    .dataframe thead th {\n",
       "        text-align: right;\n",
       "    }\n",
       "</style>\n",
       "<table border=\"1\" class=\"dataframe\">\n",
       "  <thead>\n",
       "    <tr style=\"text-align: right;\">\n",
       "      <th></th>\n",
       "      <th>project_file</th>\n",
       "      <th>commit</th>\n",
       "      <th>commit_message</th>\n",
       "      <th>date</th>\n",
       "      <th>old</th>\n",
       "      <th>new</th>\n",
       "      <th>similarity</th>\n",
       "      <th>prompt_length_old</th>\n",
       "      <th>prompt_length_new</th>\n",
       "    </tr>\n",
       "  </thead>\n",
       "  <tbody>\n",
       "    <tr>\n",
       "      <th>1</th>\n",
       "      <td>BradyFU/Woodpecker_models/entity_extractor.py</td>\n",
       "      <td>8eef8561a06b056525ad4dc4e7dd1bed3e14436a</td>\n",
       "      <td>update code</td>\n",
       "      <td>2023-10-24</td>\n",
       "      <td>Given a sentence, extract the existent entitie...</td>\n",
       "      <td>Given a sentence, extract the entities within ...</td>\n",
       "      <td>0.851541</td>\n",
       "      <td>192.0</td>\n",
       "      <td>155.0</td>\n",
       "    </tr>\n",
       "    <tr>\n",
       "      <th>4</th>\n",
       "      <td>AmineDiro/cria_python/langchain_openai.py</td>\n",
       "      <td>e98ec6e3f907c84ea64ca79f2778b5f36ccb1da6</td>\n",
       "      <td>small fix langchain</td>\n",
       "      <td>2023-08-08</td>\n",
       "      <td>\\nUSER: You are a helpful, medical specialist....</td>\n",
       "      <td>\\nUSER: You are a helpful, medical specialist....</td>\n",
       "      <td>0.985507</td>\n",
       "      <td>68.0</td>\n",
       "      <td>68.0</td>\n",
       "    </tr>\n",
       "    <tr>\n",
       "      <th>6</th>\n",
       "      <td>UranusSeven/llama_generative_agent_generative_...</td>\n",
       "      <td>fb169f71f0851167e24186131d9eb368d9268c3e</td>\n",
       "      <td>ENH: better prompts</td>\n",
       "      <td>2023-05-05</td>\n",
       "      <td>\\n{q1}?\\nContext from memory:\\n{relevant_memor...</td>\n",
       "      <td>Context from memory:\\n</td>\n",
       "      <td>0.545455</td>\n",
       "      <td>7.0</td>\n",
       "      <td>3.0</td>\n",
       "    </tr>\n",
       "    <tr>\n",
       "      <th>18</th>\n",
       "      <td>yoheinakajima/babyagi_babycoder/babycoder.py</td>\n",
       "      <td>4d5002262e36a361ef9c4d057989ece22f1ce304</td>\n",
       "      <td>get os name</td>\n",
       "      <td>2023-05-02</td>\n",
       "      <td>You are an AGI agent responsible for executing...</td>\n",
       "      <td>You are an AGI agent responsible for executing...</td>\n",
       "      <td>0.976562</td>\n",
       "      <td>124.0</td>\n",
       "      <td>124.0</td>\n",
       "    </tr>\n",
       "    <tr>\n",
       "      <th>21</th>\n",
       "      <td>juntoku9/edupal_firebase_functions/functions/s...</td>\n",
       "      <td>cc91125ab816f695eb335beb8da9846430cde3c3</td>\n",
       "      <td>some clean up and bug fixes</td>\n",
       "      <td>2023-10-25</td>\n",
       "      <td>you are a happy dog chatting with children, y...</td>\n",
       "      <td>you are a happy dog chatting with children, y...</td>\n",
       "      <td>0.965517</td>\n",
       "      <td>29.0</td>\n",
       "      <td>29.0</td>\n",
       "    </tr>\n",
       "    <tr>\n",
       "      <th>...</th>\n",
       "      <td>...</td>\n",
       "      <td>...</td>\n",
       "      <td>...</td>\n",
       "      <td>...</td>\n",
       "      <td>...</td>\n",
       "      <td>...</td>\n",
       "      <td>...</td>\n",
       "      <td>...</td>\n",
       "      <td>...</td>\n",
       "    </tr>\n",
       "    <tr>\n",
       "      <th>14053</th>\n",
       "      <td>sweepai/sweep_sweepai/core/context_pruning.py</td>\n",
       "      <td>bc9bfc0351261b66d9bdcb8b08b27df75f24d712</td>\n",
       "      <td>Feat/fast and better context (#3532)</td>\n",
       "      <td>2024-04-11</td>\n",
       "      <td>## Stored Files\\nHere are the files that you h...</td>\n",
       "      <td>## Stored Files\\nDO NOT CALL THE STORE OR VIEW...</td>\n",
       "      <td>0.633333</td>\n",
       "      <td>20.0</td>\n",
       "      <td>30.0</td>\n",
       "    </tr>\n",
       "    <tr>\n",
       "      <th>14054</th>\n",
       "      <td>sweepai/sweep_sweepai/core/context_pruning.py</td>\n",
       "      <td>bc9bfc0351261b66d9bdcb8b08b27df75f24d712</td>\n",
       "      <td>Feat/fast and better context (#3532)</td>\n",
       "      <td>2024-04-11</td>\n",
       "      <td>You are a brilliant engineer assigned to solve...</td>\n",
       "      <td>You are a brilliant engineer assigned to solve...</td>\n",
       "      <td>0.488812</td>\n",
       "      <td>290.0</td>\n",
       "      <td>281.0</td>\n",
       "    </tr>\n",
       "    <tr>\n",
       "      <th>14059</th>\n",
       "      <td>thiswillbeyourgithub/DocToolsLLM_DocToolsLLM.py</td>\n",
       "      <td>7e22a317e07323fe4c34e0beeecade79576d7a99</td>\n",
       "      <td>feat: allow the llm to give its opinion if the...</td>\n",
       "      <td>2024-05-01</td>\n",
       "      <td>Given the following question and answers, you ...</td>\n",
       "      <td>Given the following question and answers, you ...</td>\n",
       "      <td>0.723077</td>\n",
       "      <td>46.0</td>\n",
       "      <td>82.0</td>\n",
       "    </tr>\n",
       "    <tr>\n",
       "      <th>14061</th>\n",
       "      <td>thiswillbeyourgithub/DocToolsLLM_DocToolsLLM.py</td>\n",
       "      <td>af87e516db34b996c6daead53b12f38d0ac1beca</td>\n",
       "      <td>remove irrelevant context when combining answers</td>\n",
       "      <td>2024-05-01</td>\n",
       "      <td>You are an assistant for question-answering ta...</td>\n",
       "      <td>You are an assistant for question-answering ta...</td>\n",
       "      <td>0.958333</td>\n",
       "      <td>48.0</td>\n",
       "      <td>50.0</td>\n",
       "    </tr>\n",
       "    <tr>\n",
       "      <th>14062</th>\n",
       "      <td>thiswillbeyourgithub/DocToolsLLM_DocToolsLLM.py</td>\n",
       "      <td>af87e516db34b996c6daead53b12f38d0ac1beca</td>\n",
       "      <td>remove irrelevant context when combining answers</td>\n",
       "      <td>2024-05-01</td>\n",
       "      <td>Given the following question and answers, you ...</td>\n",
       "      <td>Given the following question and answers, you ...</td>\n",
       "      <td>0.954023</td>\n",
       "      <td>82.0</td>\n",
       "      <td>90.0</td>\n",
       "    </tr>\n",
       "  </tbody>\n",
       "</table>\n",
       "<p>1720 rows × 9 columns</p>\n",
       "</div>"
      ],
      "text/plain": [
       "                                            project_file  \\\n",
       "1          BradyFU/Woodpecker_models/entity_extractor.py   \n",
       "4              AmineDiro/cria_python/langchain_openai.py   \n",
       "6      UranusSeven/llama_generative_agent_generative_...   \n",
       "18          yoheinakajima/babyagi_babycoder/babycoder.py   \n",
       "21     juntoku9/edupal_firebase_functions/functions/s...   \n",
       "...                                                  ...   \n",
       "14053      sweepai/sweep_sweepai/core/context_pruning.py   \n",
       "14054      sweepai/sweep_sweepai/core/context_pruning.py   \n",
       "14059    thiswillbeyourgithub/DocToolsLLM_DocToolsLLM.py   \n",
       "14061    thiswillbeyourgithub/DocToolsLLM_DocToolsLLM.py   \n",
       "14062    thiswillbeyourgithub/DocToolsLLM_DocToolsLLM.py   \n",
       "\n",
       "                                         commit  \\\n",
       "1      8eef8561a06b056525ad4dc4e7dd1bed3e14436a   \n",
       "4      e98ec6e3f907c84ea64ca79f2778b5f36ccb1da6   \n",
       "6      fb169f71f0851167e24186131d9eb368d9268c3e   \n",
       "18     4d5002262e36a361ef9c4d057989ece22f1ce304   \n",
       "21     cc91125ab816f695eb335beb8da9846430cde3c3   \n",
       "...                                         ...   \n",
       "14053  bc9bfc0351261b66d9bdcb8b08b27df75f24d712   \n",
       "14054  bc9bfc0351261b66d9bdcb8b08b27df75f24d712   \n",
       "14059  7e22a317e07323fe4c34e0beeecade79576d7a99   \n",
       "14061  af87e516db34b996c6daead53b12f38d0ac1beca   \n",
       "14062  af87e516db34b996c6daead53b12f38d0ac1beca   \n",
       "\n",
       "                                          commit_message        date  \\\n",
       "1                                            update code  2023-10-24   \n",
       "4                                    small fix langchain  2023-08-08   \n",
       "6                                    ENH: better prompts  2023-05-05   \n",
       "18                                           get os name  2023-05-02   \n",
       "21                           some clean up and bug fixes  2023-10-25   \n",
       "...                                                  ...         ...   \n",
       "14053               Feat/fast and better context (#3532)  2024-04-11   \n",
       "14054               Feat/fast and better context (#3532)  2024-04-11   \n",
       "14059  feat: allow the llm to give its opinion if the...  2024-05-01   \n",
       "14061   remove irrelevant context when combining answers  2024-05-01   \n",
       "14062   remove irrelevant context when combining answers  2024-05-01   \n",
       "\n",
       "                                                     old  \\\n",
       "1      Given a sentence, extract the existent entitie...   \n",
       "4      \\nUSER: You are a helpful, medical specialist....   \n",
       "6      \\n{q1}?\\nContext from memory:\\n{relevant_memor...   \n",
       "18     You are an AGI agent responsible for executing...   \n",
       "21      you are a happy dog chatting with children, y...   \n",
       "...                                                  ...   \n",
       "14053  ## Stored Files\\nHere are the files that you h...   \n",
       "14054  You are a brilliant engineer assigned to solve...   \n",
       "14059  Given the following question and answers, you ...   \n",
       "14061  You are an assistant for question-answering ta...   \n",
       "14062  Given the following question and answers, you ...   \n",
       "\n",
       "                                                     new  similarity  \\\n",
       "1      Given a sentence, extract the entities within ...    0.851541   \n",
       "4      \\nUSER: You are a helpful, medical specialist....    0.985507   \n",
       "6                                 Context from memory:\\n    0.545455   \n",
       "18     You are an AGI agent responsible for executing...    0.976562   \n",
       "21      you are a happy dog chatting with children, y...    0.965517   \n",
       "...                                                  ...         ...   \n",
       "14053  ## Stored Files\\nDO NOT CALL THE STORE OR VIEW...    0.633333   \n",
       "14054  You are a brilliant engineer assigned to solve...    0.488812   \n",
       "14059  Given the following question and answers, you ...    0.723077   \n",
       "14061  You are an assistant for question-answering ta...    0.958333   \n",
       "14062  Given the following question and answers, you ...    0.954023   \n",
       "\n",
       "       prompt_length_old  prompt_length_new  \n",
       "1                  192.0              155.0  \n",
       "4                   68.0               68.0  \n",
       "6                    7.0                3.0  \n",
       "18                 124.0              124.0  \n",
       "21                  29.0               29.0  \n",
       "...                  ...                ...  \n",
       "14053               20.0               30.0  \n",
       "14054              290.0              281.0  \n",
       "14059               46.0               82.0  \n",
       "14061               48.0               50.0  \n",
       "14062               82.0               90.0  \n",
       "\n",
       "[1720 rows x 9 columns]"
      ]
     },
     "execution_count": 60,
     "metadata": {},
     "output_type": "execute_result"
    }
   ],
   "source": [
    "df_no_duplicates.dropna(subset=['old', 'new'], inplace=True)\n",
    "\n",
    "for index, row in df_no_duplicates.iterrows():\n",
    "    df_no_duplicates.at[index, 'prompt_length_old'] = len(row['old'].split())\n",
    "    df_no_duplicates.at[index, 'prompt_length_new'] = len(row['new'].split())\n",
    "\n",
    "df_no_duplicates"
   ]
  },
  {
   "cell_type": "code",
   "execution_count": 62,
   "metadata": {},
   "outputs": [],
   "source": [
    "df_no_duplicates = df_no_duplicates[(df_no_duplicates['prompt_length_old'] > 15) & (df_no_duplicates['prompt_length_new'] > 15)]\n",
    "df_no_duplicates.to_csv('output_7_15.csv', index=False, lineterminator='\\n')"
   ]
  },
  {
   "cell_type": "code",
   "execution_count": 39,
   "metadata": {},
   "outputs": [],
   "source": [
    "df = pd.read_csv(\"./output_7_15.csv\")"
   ]
  },
  {
   "cell_type": "code",
   "execution_count": 40,
   "metadata": {},
   "outputs": [
    {
     "data": {
      "text/plain": [
       "1346"
      ]
     },
     "execution_count": 40,
     "metadata": {},
     "output_type": "execute_result"
    }
   ],
   "source": [
    "len(df)"
   ]
  },
  {
   "cell_type": "code",
   "execution_count": 41,
   "metadata": {},
   "outputs": [],
   "source": [
    "df_no_duplicates = df.drop_duplicates(subset=['old', 'new'])"
   ]
  },
  {
   "cell_type": "code",
   "execution_count": 42,
   "metadata": {},
   "outputs": [
    {
     "data": {
      "text/plain": [
       "1262"
      ]
     },
     "execution_count": 42,
     "metadata": {},
     "output_type": "execute_result"
    }
   ],
   "source": [
    "len(df_no_duplicates)"
   ]
  },
  {
   "cell_type": "code",
   "execution_count": 33,
   "metadata": {},
   "outputs": [],
   "source": []
  },
  {
   "cell_type": "code",
   "execution_count": 83,
   "metadata": {},
   "outputs": [],
   "source": [
    "df_count = df_no_duplicates['project_file'].value_counts().reset_index()\n",
    "df_count.columns = ['Project_file', 'Count']"
   ]
  },
  {
   "cell_type": "code",
   "execution_count": 84,
   "metadata": {},
   "outputs": [
    {
     "data": {
      "text/html": [
       "<div>\n",
       "<style scoped>\n",
       "    .dataframe tbody tr th:only-of-type {\n",
       "        vertical-align: middle;\n",
       "    }\n",
       "\n",
       "    .dataframe tbody tr th {\n",
       "        vertical-align: top;\n",
       "    }\n",
       "\n",
       "    .dataframe thead th {\n",
       "        text-align: right;\n",
       "    }\n",
       "</style>\n",
       "<table border=\"1\" class=\"dataframe\">\n",
       "  <thead>\n",
       "    <tr style=\"text-align: right;\">\n",
       "      <th></th>\n",
       "      <th>Count &gt;=</th>\n",
       "      <th>Number of Project_files</th>\n",
       "    </tr>\n",
       "  </thead>\n",
       "  <tbody>\n",
       "    <tr>\n",
       "      <th>0</th>\n",
       "      <td>1</td>\n",
       "      <td>333</td>\n",
       "    </tr>\n",
       "    <tr>\n",
       "      <th>1</th>\n",
       "      <td>2</td>\n",
       "      <td>179</td>\n",
       "    </tr>\n",
       "    <tr>\n",
       "      <th>2</th>\n",
       "      <td>3</td>\n",
       "      <td>116</td>\n",
       "    </tr>\n",
       "    <tr>\n",
       "      <th>3</th>\n",
       "      <td>4</td>\n",
       "      <td>81</td>\n",
       "    </tr>\n",
       "    <tr>\n",
       "      <th>4</th>\n",
       "      <td>5</td>\n",
       "      <td>63</td>\n",
       "    </tr>\n",
       "    <tr>\n",
       "      <th>5</th>\n",
       "      <td>6</td>\n",
       "      <td>49</td>\n",
       "    </tr>\n",
       "    <tr>\n",
       "      <th>6</th>\n",
       "      <td>7</td>\n",
       "      <td>36</td>\n",
       "    </tr>\n",
       "    <tr>\n",
       "      <th>7</th>\n",
       "      <td>8</td>\n",
       "      <td>33</td>\n",
       "    </tr>\n",
       "    <tr>\n",
       "      <th>8</th>\n",
       "      <td>9</td>\n",
       "      <td>30</td>\n",
       "    </tr>\n",
       "    <tr>\n",
       "      <th>9</th>\n",
       "      <td>10</td>\n",
       "      <td>25</td>\n",
       "    </tr>\n",
       "  </tbody>\n",
       "</table>\n",
       "</div>"
      ],
      "text/plain": [
       "   Count >=  Number of Project_files\n",
       "0         1                      333\n",
       "1         2                      179\n",
       "2         3                      116\n",
       "3         4                       81\n",
       "4         5                       63\n",
       "5         6                       49\n",
       "6         7                       36\n",
       "7         8                       33\n",
       "8         9                       30\n",
       "9        10                       25"
      ]
     },
     "execution_count": 84,
     "metadata": {},
     "output_type": "execute_result"
    }
   ],
   "source": [
    "bins_table = []\n",
    "\n",
    "# Calculate the number of entries for each bin condition\n",
    "for i in range(1, 11):\n",
    "    count_in_bin = df_count[df_count['Count'] >= i].shape[0]\n",
    "    bins_table.append({'Count >=': i, 'Number of Project_files': count_in_bin})\n",
    "\n",
    "# Convert the list to a DataFrame\n",
    "bins_df = pd.DataFrame(bins_table)\n",
    "\n",
    "# Display the resulting bins table\n",
    "bins_df"
   ]
  },
  {
   "cell_type": "code",
   "execution_count": 87,
   "metadata": {},
   "outputs": [
    {
     "data": {
      "image/png": "[encoded data removed]",
      "text/plain": [
       "<Figure size 720x432 with 1 Axes>"
      ]
     },
     "metadata": {
      "needs_background": "light"
     },
     "output_type": "display_data"
    }
   ],
   "source": [
    "import matplotlib.pyplot as plt\n",
    "\n",
    "# Plotting the bins_df DataFrame\n",
    "plt.figure(figsize=(10, 6))\n",
    "plt.bar(bins_df[\"Count >=\"], bins_df['Number of Project_files'], color='skyblue', edgecolor='black')\n",
    "\n",
    "plt.xlabel('Count >=')\n",
    "plt.ylabel('Number of Project Files')\n",
    "plt.title('Number of Project Files Change')\n",
    "plt.grid(True)\n",
    "\n",
    "plt.show()"
   ]
  },
  {
   "cell_type": "code",
   "execution_count": 81,
   "metadata": {},
   "outputs": [],
   "source": [
    "df_count = df_count[df_count['Count'] >= 4]"
   ]
  },
  {
   "cell_type": "code",
   "execution_count": 82,
   "metadata": {},
   "outputs": [
    {
     "data": {
      "image/png": "[encoded data removed]",
      "text/plain": [
       "<Figure size 720x432 with 1 Axes>"
      ]
     },
     "metadata": {
      "needs_background": "light"
     },
     "output_type": "display_data"
    }
   ],
   "source": [
    "import matplotlib.pyplot as plt\n",
    "\n",
    "# Plot a histogram of the 'Count' column in df_count\n",
    "plt.figure(figsize=(10, 6))\n",
    "plt.hist(df_count['Count'], bins=20, color='skyblue', edgecolor='black')\n",
    "plt.xlabel('Count')\n",
    "plt.ylabel('Frequency')\n",
    "plt.title('Distribution of Project File Counts')\n",
    "plt.grid(True)\n",
    "plt.show()"
   ]
  },
  {
   "cell_type": "code",
   "execution_count": 12,
   "metadata": {},
   "outputs": [
    {
     "data": {
      "text/plain": [
       "0                    BradyFU\n",
       "1                  AmineDiro\n",
       "2              yoheinakajima\n",
       "3                   juntoku9\n",
       "4                   juntoku9\n",
       "                ...         \n",
       "1341                 sweepai\n",
       "1342                 sweepai\n",
       "1343    thiswillbeyourgithub\n",
       "1344    thiswillbeyourgithub\n",
       "1345    thiswillbeyourgithub\n",
       "Name: project_file, Length: 1262, dtype: object"
      ]
     },
     "execution_count": 12,
     "metadata": {},
     "output_type": "execute_result"
    }
   ],
   "source": [
    "repos_name"
   ]
  },
  {
   "cell_type": "code",
   "execution_count": 47,
   "metadata": {},
   "outputs": [
    {
     "name": "stderr",
     "output_type": "stream",
     "text": [
      "/tmp/ipykernel_3141900/994181833.py:1: SettingWithCopyWarning: \n",
      "A value is trying to be set on a copy of a slice from a DataFrame.\n",
      "Try using .loc[row_indexer,col_indexer] = value instead\n",
      "\n",
      "See the caveats in the documentation: https://pandas.pydata.org/pandas-docs/stable/user_guide/indexing.html#returning-a-view-versus-a-copy\n",
      "  df_no_duplicates['similarity'] = df_no_duplicates['similarity'].round(2)\n"
     ]
    }
   ],
   "source": [
    "df_no_duplicates['similarity'] = df_no_duplicates['similarity'].round(2)"
   ]
  },
  {
   "cell_type": "code",
   "execution_count": 48,
   "metadata": {},
   "outputs": [
    {
     "name": "stderr",
     "output_type": "stream",
     "text": [
      "/tmp/ipykernel_3141900/1085648753.py:1: SettingWithCopyWarning: \n",
      "A value is trying to be set on a copy of a slice from a DataFrame.\n",
      "Try using .loc[row_indexer,col_indexer] = value instead\n",
      "\n",
      "See the caveats in the documentation: https://pandas.pydata.org/pandas-docs/stable/user_guide/indexing.html#returning-a-view-versus-a-copy\n",
      "  df_no_duplicates['similarity_bin'] = pd.cut(df_no_duplicates['similarity'], bins=np.arange(0, 1.01, 0.01), include_lowest=True)\n"
     ]
    }
   ],
   "source": [
    "df_no_duplicates['similarity_bin'] = pd.cut(df_no_duplicates['similarity'], bins=np.arange(0, 1.01, 0.01), include_lowest=True)"
   ]
  },
  {
   "cell_type": "code",
   "execution_count": 49,
   "metadata": {},
   "outputs": [],
   "source": [
    "bin_counts = df_no_duplicates['similarity_bin'].value_counts()\n",
    "\n",
    "# Filter out bins with fewer than 2 samples\n",
    "valid_bins = bin_counts[bin_counts >= 2].index\n",
    "df_filtered = df_no_duplicates[df_no_duplicates['similarity_bin'].isin(valid_bins)]\n",
    "\n",
    "# Step 2: Stratified sampling\n",
    "try:\n",
    "    sampled_df, _ = train_test_split(\n",
    "        df_filtered,\n",
    "        test_size=(len(df_filtered) - 200),\n",
    "        stratify=df_filtered['similarity_bin'],\n",
    "        random_state=42\n",
    "    )\n",
    "except ValueError as e:\n",
    "    print(f\"Error during stratified sampling: {e}\")\n",
    "    sampled_df = df_filtered.sample(n=200, random_state=42)  # Fallback to random sampling\n",
    "\n",
    "# Dropping the 'similarity_bin' column if it was only used for stratification\n",
    "sampled_df = sampled_df.drop(columns=['similarity_bin'])\n"
   ]
  },
  {
   "cell_type": "code",
   "execution_count": 55,
   "metadata": {},
   "outputs": [],
   "source": [
    "sampled_df['old']  = sampled_df['old'].str.strip()\n",
    "sampled_df['new']  = sampled_df['new'].str.strip()\n",
    "sampled_df.to_csv('output_sampled.csv', index=False, lineterminator='\\n')"
   ]
  },
  {
   "cell_type": "code",
   "execution_count": 60,
   "metadata": {},
   "outputs": [
    {
     "name": "stdout",
     "output_type": "stream",
     "text": [
      "342\n"
     ]
    }
   ],
   "source": [
    "print(len(df['project_file'].unique()))"
   ]
  },
  {
   "cell_type": "code",
   "execution_count": 61,
   "metadata": {},
   "outputs": [
    {
     "data": {
      "image/png": "[encoded data removed]",
      "text/plain": [
       "<Figure size 576x432 with 1 Axes>"
      ]
     },
     "metadata": {
      "needs_background": "light"
     },
     "output_type": "display_data"
    }
   ],
   "source": [
    "plt.figure(figsize=(8, 6))\n",
    "plt.hist(df['similarity'], bins=10, edgecolor='black')\n",
    "plt.title('Histogram of Similarity')\n",
    "plt.ylabel('Frequency')\n",
    "\n",
    "# Display the histogram\n",
    "plt.show()"
   ]
  }
 ],
 "metadata": {
  "kernelspec": {
   "display_name": "Python 3",
   "language": "python",
   "name": "python3"
  },
  "language_info": {
   "codemirror_mode": {
    "name": "ipython",
    "version": 3
   },
   "file_extension": ".py",
   "mimetype": "text/x-python",
   "name": "python",
   "nbconvert_exporter": "python",
   "pygments_lexer": "ipython3",
   "version": "3.10.12"
  }
 },
 "nbformat": 4,
 "nbformat_minor": 2
}
